{
 "cells": [
  {
   "cell_type": "code",
   "execution_count": 1,
   "metadata": {},
   "outputs": [],
   "source": [
    "import os\n",
    "import shutil"
   ]
  },
  {
   "cell_type": "code",
   "execution_count": 29,
   "metadata": {},
   "outputs": [],
   "source": [
    "def extract_specific_time_frames(frame_folder, output_dir, voltage_label, time_str, fps=30):\n",
    "    \"\"\"\n",
    "    Extracts the frame corresponding to a given time (HH:MM:SS) and the next 30 frames,\n",
    "    moving them to a specified folder based on voltage.\n",
    "\n",
    "    :param frame_folder: Path to the folder containing saved frames.\n",
    "    :param output_dir: Path to the folder where extracted frames will be moved.\n",
    "    :param voltage_label: Label indicating the voltage of the video.\n",
    "    :param time_str: Time in \"MM:SS\" format (e.g., \"1:30\" for 1 minute 30 seconds).\n",
    "    :param fps: Frames per second (default is 30).\n",
    "    \"\"\"\n",
    "\n",
    "    # Convert time string to total seconds\n",
    "    minutes, seconds = map(int, time_str.split(\":\"))\n",
    "    total_seconds = minutes * 60 + seconds\n",
    "\n",
    "    # Compute the start frame index\n",
    "    start_frame_idx = total_seconds * fps  # Frame number at the given time\n",
    "    print(start_frame_idx)\n",
    "\n",
    "    voltage_folder = os.path.join(output_dir)\n",
    "    os.makedirs(voltage_folder, exist_ok=True)\n",
    "\n",
    "    # Extract the selected frame and next 30 frames\n",
    "    for i in range(start_frame_idx, start_frame_idx + 31):\n",
    "        frame_filename = f\"frame_{i:05d}.jpg\"\n",
    "        src_path = os.path.join(frame_folder, frame_filename)\n",
    "        dst_path = os.path.join(voltage_folder, frame_filename)\n",
    "\n",
    "        # Check if frame exists before moving\n",
    "        if os.path.exists(src_path):\n",
    "            shutil.move(src_path, dst_path)\n",
    "        else:\n",
    "            print(f\"Frame {frame_filename} not found, skipping.\")\n",
    "\n",
    "    print(f\"Frames from {time_str} (frame {start_frame_idx:05d}) moved to: {voltage_folder}\")"
   ]
  },
  {
   "cell_type": "code",
   "execution_count": 30,
   "metadata": {},
   "outputs": [
    {
     "name": "stdout",
     "output_type": "stream",
     "text": [
      "510\n",
      "Frames from 00:17 (frame 00510) moved to: 1kVDC\n"
     ]
    }
   ],
   "source": [
    "frame_folder = \"../frames_1kvDC\"  # Folder containing saved frames\n",
    "output_dir = \"1kVDC\"  # Where extracted frames should be stored\n",
    "voltage_label = \"\"  # Example voltage label\n",
    "time_str = \"00:17\"\n",
    "\n",
    "extract_specific_time_frames(frame_folder, output_dir, voltage_label, time_str)\n"
   ]
  }
 ],
 "metadata": {
  "kernelspec": {
   "display_name": "Python 3",
   "language": "python",
   "name": "python3"
  },
  "language_info": {
   "codemirror_mode": {
    "name": "ipython",
    "version": 3
   },
   "file_extension": ".py",
   "mimetype": "text/x-python",
   "name": "python",
   "nbconvert_exporter": "python",
   "pygments_lexer": "ipython3",
   "version": "3.12.0"
  }
 },
 "nbformat": 4,
 "nbformat_minor": 2
}

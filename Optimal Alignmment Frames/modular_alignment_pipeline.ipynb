{
 "cells": [
  {
   "cell_type": "code",
   "execution_count": null,
   "id": "58b32398",
   "metadata": {},
   "outputs": [],
   "source": [
    "\n",
    "import os\n",
    "import math\n",
    "import numpy as np\n",
    "import pandas as pd\n",
    "import cv2\n",
    "import joblib\n",
    "from typing import Tuple\n",
    "from sklearn.base import BaseEstimator\n"
   ]
  },
  {
   "cell_type": "code",
   "execution_count": null,
   "id": "10c4d480",
   "metadata": {},
   "outputs": [],
   "source": [
    "\n",
    "def calculate_angle(x1, y1, x2, y2):\n",
    "    return np.degrees(np.arctan2(y2 - y1, x2 - x1))\n",
    "\n",
    "def analyze_image(image_path: str, crop_size: int = 200, calibration_mm_per_pixel: float = 0.00654) -> Tuple[pd.DataFrame, dict]:\n",
    "    image = cv2.imread(image_path, cv2.IMREAD_COLOR)\n",
    "    gray = cv2.cvtColor(image, cv2.COLOR_BGR2GRAY)\n",
    "\n",
    "    h, w = gray.shape\n",
    "    center_y, center_x = h // 2, w // 2\n",
    "    zoomed_crop = gray[center_y - crop_size//2:center_y + crop_size//2,\n",
    "                       center_x - crop_size//2:center_x + crop_size//2]\n",
    "\n",
    "    edges = cv2.Canny(zoomed_crop, 50, 150)\n",
    "    lines = cv2.HoughLinesP(edges, 1, np.pi / 180, threshold=30, minLineLength=10, maxLineGap=5)\n",
    "\n",
    "    if lines is None:\n",
    "        return pd.DataFrame(), {}\n",
    "\n",
    "    measurements = []\n",
    "    for line in lines:\n",
    "        x1, y1, x2, y2 = line[0]\n",
    "        length_px = math.sqrt((x2 - x1) ** 2 + (y2 - y1) ** 2)\n",
    "        width_px = abs(y2 - y1) if abs(y2 - y1) > 0 else 1\n",
    "        measurements.append({\n",
    "            'length_mm': length_px * calibration_mm_per_pixel,\n",
    "            'width_mm': width_px * calibration_mm_per_pixel,\n",
    "            'angle_deg': calculate_angle(x1, y1, x2, y2)\n",
    "        })\n",
    "\n",
    "    return pd.DataFrame(measurements), {'image': image_path}\n"
   ]
  },
  {
   "cell_type": "code",
   "execution_count": null,
   "id": "0b849774",
   "metadata": {},
   "outputs": [],
   "source": [
    "\n",
    "def extract_features_from_folder(folder_path: str) -> pd.DataFrame:\n",
    "    feature_list = []\n",
    "    for file in os.listdir(folder_path):\n",
    "        if file.lower().endswith(('.png', '.jpg', '.jpeg', '.bmp', '.tiff')):\n",
    "            img_path = os.path.join(folder_path, file)\n",
    "            df, meta = analyze_image(img_path)\n",
    "            if not df.empty:\n",
    "                avg_length = df['length_mm'].mean()\n",
    "                avg_width = df['width_mm'].mean()\n",
    "                avg_angle = df['angle_deg'].mean()\n",
    "                feature_list.append({\n",
    "                    'image': file,\n",
    "                    'avg_length_mm': avg_length,\n",
    "                    'avg_width_mm': avg_width,\n",
    "                    'avg_angle_deg': avg_angle\n",
    "                })\n",
    "    return pd.DataFrame(feature_list)\n"
   ]
  },
  {
   "cell_type": "code",
   "execution_count": null,
   "id": "9e95831d",
   "metadata": {},
   "outputs": [],
   "source": [
    "\n",
    "def load_models(reg_model_path: str, clf_model_path: str) -> Tuple[BaseEstimator, BaseEstimator]:\n",
    "    reg_model = joblib.load(reg_model_path)\n",
    "    clf_model = joblib.load(clf_model_path)\n",
    "    return reg_model, clf_model\n"
   ]
  },
  {
   "cell_type": "code",
   "execution_count": null,
   "id": "c71e95e1",
   "metadata": {},
   "outputs": [],
   "source": [
    "\n",
    "def predict(features: pd.DataFrame, reg_model: BaseEstimator, clf_model: BaseEstimator) -> pd.DataFrame:\n",
    "    X = features[['avg_length_mm', 'avg_width_mm', 'avg_angle_deg']]\n",
    "    features['predicted_voltage'] = reg_model.predict(X)\n",
    "    features['predicted_type'] = clf_model.predict(X)\n",
    "    return features\n"
   ]
  },
  {
   "cell_type": "code",
   "execution_count": null,
   "id": "bd7c05f3",
   "metadata": {},
   "outputs": [],
   "source": [
    "\n",
    "def main_pipeline(image_folder: str, reg_model_path: str, clf_model_path: str) -> pd.DataFrame:\n",
    "    features = extract_features_from_folder(image_folder)\n",
    "    if features.empty:\n",
    "        print(\"No valid features extracted.\")\n",
    "        return pd.DataFrame()\n",
    "    reg_model, clf_model = load_models(reg_model_path, clf_model_path)\n",
    "    results = predict(features, reg_model, clf_model)\n",
    "    return results\n"
   ]
  },
  {
   "cell_type": "code",
   "execution_count": null,
   "id": "98e95e42",
   "metadata": {},
   "outputs": [],
   "source": [
    "\n",
    "# Example usage (update paths accordingly):\n",
    "# image_folder = \"path/to/image/folder\"\n",
    "# reg_model_path = \"path/to/regression_model.pkl\"\n",
    "# clf_model_path = \"path/to/classification_model.pkl\"\n",
    "# output = main_pipeline(image_folder, reg_model_path, clf_model_path)\n",
    "# display(output)\n"
   ]
  }
 ],
 "metadata": {},
 "nbformat": 4,
 "nbformat_minor": 5
}
